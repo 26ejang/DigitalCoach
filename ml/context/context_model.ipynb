{
 "cells": [
  {
   "cell_type": "code",
   "execution_count": null,
   "metadata": {},
   "outputs": [],
   "source": [
    "print('Hello, this is the jupyter notebook for evaluating the context model')\n",
    "print('Python version: Python 3.8.3')"
   ]
  }
 ],
 "metadata": {
  "kernelspec": {
   "display_name": "Python 3",
   "language": "python",
   "name": "python3"
  },
  "language_info": {
   "name": "python",
   "version": "3.11.1 (tags/v3.11.1:a7a450f, Dec  6 2022, 19:58:39) [MSC v.1934 64 bit (AMD64)]"
  },
  "orig_nbformat": 4,
  "vscode": {
   "interpreter": {
    "hash": "1cd46bd96864a5bd4301112787148346dc8293b8035396fb918187b7d3b90d39"
   }
  }
 },
 "nbformat": 4,
 "nbformat_minor": 2
}
